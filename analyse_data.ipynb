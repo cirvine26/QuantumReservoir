{
 "cells": [
  {
   "cell_type": "code",
   "execution_count": 6,
   "metadata": {},
   "outputs": [],
   "source": [
    "import os\n",
    "import json\n",
    "import numpy as np"
   ]
  },
  {
   "cell_type": "code",
   "execution_count": 2,
   "metadata": {},
   "outputs": [],
   "source": [
    "SIMULATION_DIRECTORY = 'data/5_qubit_reservoir_temporal_dynamics'"
   ]
  },
  {
   "cell_type": "code",
   "execution_count": 3,
   "metadata": {},
   "outputs": [],
   "source": [
    "reservoir_dynamics = []\n",
    "entangled_labels = []\n",
    "\n",
    "for filename in os.listdir(SIMULATION_DIRECTORY):\n",
    "    if filename.endswith('.json'):\n",
    "        filepath = os.path.join(SIMULATION_DIRECTORY, filename)\n",
    "        with open(filepath, 'r') as file:\n",
    "            json_data = json.load(file)\n",
    "            reservoir_dynamics.append(json_data['reservoir_dynamics'])\n",
    "            entangled_labels.append(json_data['entangled_label'])"
   ]
  },
  {
   "cell_type": "code",
   "execution_count": 10,
   "metadata": {},
   "outputs": [
    {
     "name": "stdout",
     "output_type": "stream",
     "text": [
      "Shape of reservoir dyanmics is (5000, 5, 321)\n",
      "Shape of entangled labels is (5000, 1)\n"
     ]
    }
   ],
   "source": [
    "reservoir_dynamics = np.array(reservoir_dynamics)\n",
    "entangled_labels = np.array(entangled_labels)\n",
    "entangled_labels = entangled_labels.reshape(entangled_labels.shape[0], 1)\n",
    "\n",
    "print(f'Shape of reservoir dyanmics is {reservoir_dynamics.shape}')\n",
    "print(f'Shape of entangled labels is {entangled_labels.shape}')"
   ]
  },
  {
   "cell_type": "code",
   "execution_count": 11,
   "metadata": {},
   "outputs": [],
   "source": [
    "n_datapoints = reservoir_dynamics.shape[0]\n",
    "n_reservoir_qubits = reservoir_dynamics.shape[1]\n",
    "n_timepoints = reservoir_dynamics.shape[2]"
   ]
  },
  {
   "cell_type": "code",
   "execution_count": 18,
   "metadata": {},
   "outputs": [
    {
     "name": "stdout",
     "output_type": "stream",
     "text": [
      "The new sampled reservoir dynmaics shape is (5000, 5, 100)\n"
     ]
    }
   ],
   "source": [
    "########## Dimensionality calculation ############\n",
    "# We have to avoid the curse of dimensionality so will go with the \n",
    "# 10:1 ratio of datapoints:features for now\n",
    "# TODO: Tune this as a hyperparameter\n",
    "DIMENSIONALITY_RATIO = 10\n",
    "\n",
    "required_features = int(n_datapoints // DIMENSIONALITY_RATIO)\n",
    "\n",
    "allowed_n_timepoints = int(required_features // n_reservoir_qubits)\n",
    "\n",
    "# Calculate the indices to access from the original array \n",
    "time_sample_indices = np.linspace(0, n_reservoir_qubits - 1, 100, dtype=int)\n",
    "\n",
    "sampled_reservoir_dynamics = reservoir_dynamics[:, :, time_sample_indices]\n",
    "\n",
    "print(f\"The new sampled reservoir dynmaics shape is {sampled_reservoir_dynamics.shape}\")"
   ]
  }
 ],
 "metadata": {
  "kernelspec": {
   "display_name": "10env",
   "language": "python",
   "name": "10env"
  },
  "language_info": {
   "codemirror_mode": {
    "name": "ipython",
    "version": 3
   },
   "file_extension": ".py",
   "mimetype": "text/x-python",
   "name": "python",
   "nbconvert_exporter": "python",
   "pygments_lexer": "ipython3",
   "version": "3.10.13"
  },
  "orig_nbformat": 4
 },
 "nbformat": 4,
 "nbformat_minor": 2
}
