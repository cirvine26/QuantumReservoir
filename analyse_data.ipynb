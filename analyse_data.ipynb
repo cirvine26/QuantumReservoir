{
 "cells": [
  {
   "cell_type": "code",
   "execution_count": 6,
   "metadata": {},
   "outputs": [],
   "source": [
    "import os\n",
    "import json\n",
    "import numpy as np"
   ]
  },
  {
   "cell_type": "code",
   "execution_count": 2,
   "metadata": {},
   "outputs": [],
   "source": [
    "SIMULATION_DIRECTORY = 'data/5_qubit_reservoir_temporal_dynamics'"
   ]
  },
  {
   "cell_type": "code",
   "execution_count": 3,
   "metadata": {},
   "outputs": [],
   "source": [
    "reservoir_dynamics = []\n",
    "entangled_labels = []\n",
    "\n",
    "for filename in os.listdir(SIMULATION_DIRECTORY):\n",
    "    if filename.endswith('.json'):\n",
    "        filepath = os.path.join(SIMULATION_DIRECTORY, filename)\n",
    "        with open(filepath, 'r') as file:\n",
    "            json_data = json.load(file)\n",
    "            reservoir_dynamics.append(json_data['reservoir_dynamics'])\n",
    "            entangled_labels.append(json_data['entangled_label'])"
   ]
  },
  {
   "cell_type": "code",
   "execution_count": 10,
   "metadata": {},
   "outputs": [
    {
     "name": "stdout",
     "output_type": "stream",
     "text": [
      "Shape of reservoir dyanmics is (5000, 5, 321)\n",
      "Shape of entangled labels is (5000, 1)\n"
     ]
    }
   ],
   "source": [
    "reservoir_dynamics = np.array(reservoir_dynamics)\n",
    "entangled_labels = np.array(entangled_labels)\n",
    "entangled_labels = entangled_labels.reshape(entangled_labels.shape[0], 1)\n",
    "\n",
    "print(f'Shape of reservoir dyanmics is {reservoir_dynamics.shape}')\n",
    "print(f'Shape of entangled labels is {entangled_labels.shape}')"
   ]
  },
  {
   "cell_type": "code",
   "execution_count": null,
   "metadata": {},
   "outputs": [],
   "source": []
  }
 ],
 "metadata": {
  "kernelspec": {
   "display_name": "10env",
   "language": "python",
   "name": "10env"
  },
  "language_info": {
   "codemirror_mode": {
    "name": "ipython",
    "version": 3
   },
   "file_extension": ".py",
   "mimetype": "text/x-python",
   "name": "python",
   "nbconvert_exporter": "python",
   "pygments_lexer": "ipython3",
   "version": "3.10.13"
  },
  "orig_nbformat": 4
 },
 "nbformat": 4,
 "nbformat_minor": 2
}
